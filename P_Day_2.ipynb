{
  "nbformat": 4,
  "nbformat_minor": 0,
  "metadata": {
    "colab": {
      "name": "P-Day_2.ipynb",
      "provenance": []
    },
    "kernelspec": {
      "name": "python3",
      "display_name": "Python 3"
    },
    "language_info": {
      "name": "python"
    }
  },
  "cells": [
    {
      "cell_type": "code",
      "metadata": {
        "colab": {
          "base_uri": "https://localhost:8080/"
        },
        "id": "y4cUER2330LD",
        "outputId": "f37fc815-6789-46ab-f031-59c4c80d6a25"
      },
      "source": [
        "x=777856\n",
        "n=0\n",
        "while(x>0):\n",
        "  r=x%10\n",
        "  n=n*10+r\n",
        "  x=x//10\n",
        "print(n)"
      ],
      "execution_count": null,
      "outputs": [
        {
          "output_type": "stream",
          "name": "stdout",
          "text": [
            "658777\n"
          ]
        }
      ]
    },
    {
      "cell_type": "code",
      "metadata": {
        "colab": {
          "base_uri": "https://localhost:8080/"
        },
        "id": "6JsHueb54XqK",
        "outputId": "7dd3ea09-eec7-4cb6-89c5-383b1714aefe"
      },
      "source": [
        "x=337\n",
        "y=x**0.5\n",
        "i=2\n",
        "f=0\n",
        "while(i<=y):\n",
        "  r=x%i\n",
        "  if(r==0):\n",
        "    f=1\n",
        "  i+=1\n",
        "if(f==0):\n",
        "  print(\"The number is prime\")\n",
        "else:\n",
        "  print(\"The number is not a prime number\")"
      ],
      "execution_count": null,
      "outputs": [
        {
          "output_type": "stream",
          "name": "stdout",
          "text": [
            "The number is prime\n"
          ]
        }
      ]
    },
    {
      "cell_type": "code",
      "metadata": {
        "colab": {
          "base_uri": "https://localhost:8080/"
        },
        "id": "VbmGL1d04-4O",
        "outputId": "6fcf799e-95a6-4ee3-d975-ca4e958b7726"
      },
      "source": [
        "x = input()\n",
        "print(x)"
      ],
      "execution_count": null,
      "outputs": [
        {
          "output_type": "stream",
          "name": "stdout",
          "text": [
            "5\n",
            "5\n"
          ]
        }
      ]
    },
    {
      "cell_type": "code",
      "metadata": {
        "colab": {
          "base_uri": "https://localhost:8080/"
        },
        "id": "oo0ChZ8a7ib-",
        "outputId": "918df7bd-52e3-4fd1-e6b7-fa2f308618d7"
      },
      "source": [
        "x = input(\"Please enter a number\")\n",
        "print(x)"
      ],
      "execution_count": null,
      "outputs": [
        {
          "output_type": "stream",
          "name": "stdout",
          "text": [
            "Please enter a number10\n",
            "10\n"
          ]
        }
      ]
    },
    {
      "cell_type": "code",
      "metadata": {
        "colab": {
          "base_uri": "https://localhost:8080/"
        },
        "id": "teWoyKPI7oDC",
        "outputId": "c2b4f5d5-8958-4480-cdbb-0ea6ce36db80"
      },
      "source": [
        "x = int(input(\"Please enter a number\"))\n",
        "a = x+x\n",
        "print(a)\n",
        "print(type(x))"
      ],
      "execution_count": null,
      "outputs": [
        {
          "output_type": "stream",
          "name": "stdout",
          "text": [
            "Please enter a number11\n",
            "22\n",
            "<class 'int'>\n"
          ]
        }
      ]
    },
    {
      "cell_type": "code",
      "metadata": {
        "id": "X0TGxWw47ucH"
      },
      "source": [
        "def my_function():\n",
        "  print(\"Hey Samantha\")"
      ],
      "execution_count": null,
      "outputs": []
    },
    {
      "cell_type": "code",
      "metadata": {
        "colab": {
          "base_uri": "https://localhost:8080/"
        },
        "id": "YJW0_H9h8UxS",
        "outputId": "46c0e788-90f1-44d6-c798-68ff99a2c059"
      },
      "source": [
        "my_function()"
      ],
      "execution_count": null,
      "outputs": [
        {
          "output_type": "stream",
          "name": "stdout",
          "text": [
            "Hey Samantha\n"
          ]
        }
      ]
    },
    {
      "cell_type": "code",
      "metadata": {
        "id": "qX_4lCKF8Xk-"
      },
      "source": [
        "def my_function(x):\n",
        "  a = x**2 + 2*x + 5\n",
        "  return a"
      ],
      "execution_count": null,
      "outputs": []
    },
    {
      "cell_type": "code",
      "metadata": {
        "colab": {
          "base_uri": "https://localhost:8080/"
        },
        "id": "INzgBi4K8ocW",
        "outputId": "08faef6b-0c1b-4573-ef96-fc26b6a7f4cd"
      },
      "source": [
        "my_function(15)"
      ],
      "execution_count": null,
      "outputs": [
        {
          "output_type": "execute_result",
          "data": {
            "text/plain": [
              "260"
            ]
          },
          "metadata": {},
          "execution_count": 19
        }
      ]
    },
    {
      "cell_type": "code",
      "metadata": {
        "id": "J-8YRyVY8siq"
      },
      "source": [
        "def my_function(*kids):\n",
        "  for i in kids:\n",
        "    print(i)\n",
        "  print(\"the youngest child is\",kids[2])"
      ],
      "execution_count": null,
      "outputs": []
    },
    {
      "cell_type": "code",
      "metadata": {
        "colab": {
          "base_uri": "https://localhost:8080/"
        },
        "id": "nZqOtWFP_y2c",
        "outputId": "fc059c4d-7f26-47c0-fe18-98accc98e728"
      },
      "source": [
        "my_function(\"Samantha\",\"Jhon\",\"Alok\",\"Nimish\",\"Gaurav\")"
      ],
      "execution_count": null,
      "outputs": [
        {
          "output_type": "stream",
          "name": "stdout",
          "text": [
            "Samantha\n",
            "Jhon\n",
            "Alok\n",
            "Nimish\n",
            "Gaurav\n",
            "the youngest child is Alok\n"
          ]
        }
      ]
    },
    {
      "cell_type": "code",
      "metadata": {
        "id": "21eSL1hG_34Z"
      },
      "source": [
        "def my_function(**kids):\n",
        "  print(\"Her last name is \" + kids[\"lname\"])"
      ],
      "execution_count": null,
      "outputs": []
    },
    {
      "cell_type": "code",
      "metadata": {
        "colab": {
          "base_uri": "https://localhost:8080/"
        },
        "id": "BqvtzEYuAk2X",
        "outputId": "dc93af8f-a484-491d-ca20-d7d35a844c27"
      },
      "source": [
        "my_function(fname=\"samantha\",lname=\"rath\")"
      ],
      "execution_count": null,
      "outputs": [
        {
          "output_type": "stream",
          "name": "stdout",
          "text": [
            "Her last name is rath\n"
          ]
        }
      ]
    },
    {
      "cell_type": "code",
      "metadata": {
        "id": "IlRPnbp5At8D"
      },
      "source": [
        "def my_func(age=\"21\"):\n",
        "  print(\"my age is \",age)"
      ],
      "execution_count": null,
      "outputs": []
    },
    {
      "cell_type": "code",
      "metadata": {
        "colab": {
          "base_uri": "https://localhost:8080/"
        },
        "id": "0NYvhf-aBE4W",
        "outputId": "8ef04849-f8ca-4374-9e13-b1aab5e44c9e"
      },
      "source": [
        "my_func(40)\n",
        "my_func(30)\n",
        "my_func()"
      ],
      "execution_count": null,
      "outputs": [
        {
          "output_type": "stream",
          "name": "stdout",
          "text": [
            "my age is  40\n",
            "my age is  30\n",
            "my age is  21\n"
          ]
        }
      ]
    },
    {
      "cell_type": "code",
      "metadata": {
        "id": "zMwwIrvVBG0w"
      },
      "source": [
        "def aa():\n",
        "  pass"
      ],
      "execution_count": null,
      "outputs": []
    },
    {
      "cell_type": "code",
      "metadata": {
        "id": "zH8HDv1jBeDT"
      },
      "source": [
        "aa()"
      ],
      "execution_count": null,
      "outputs": []
    },
    {
      "cell_type": "code",
      "metadata": {
        "colab": {
          "base_uri": "https://localhost:8080/"
        },
        "id": "VDJKBcwfBhLZ",
        "outputId": "9965e03e-c84e-475f-921c-afc960538d3d"
      },
      "source": [
        "a,b = int(input()),int(input())\n",
        "if(a==b or a > b):\n",
        "  print(\"XYZ\")"
      ],
      "execution_count": null,
      "outputs": [
        {
          "output_type": "stream",
          "name": "stdout",
          "text": [
            "5\n",
            "4\n",
            "XYZ\n"
          ]
        }
      ]
    },
    {
      "cell_type": "markdown",
      "metadata": {
        "id": "z8CDL8DOC0rK"
      },
      "source": [
        "## Lambda"
      ]
    },
    {
      "cell_type": "code",
      "metadata": {
        "colab": {
          "base_uri": "https://localhost:8080/"
        },
        "id": "IMBBTEH8CRXz",
        "outputId": "88655650-e08e-4e22-f7f5-392216ad14a2"
      },
      "source": [
        "x = lambda a : a+10\n",
        "print(x(5))"
      ],
      "execution_count": null,
      "outputs": [
        {
          "output_type": "stream",
          "name": "stdout",
          "text": [
            "15\n"
          ]
        }
      ]
    },
    {
      "cell_type": "markdown",
      "metadata": {
        "id": "AxqsNoqJDtYO"
      },
      "source": [
        "## Strings"
      ]
    },
    {
      "cell_type": "code",
      "metadata": {
        "colab": {
          "base_uri": "https://localhost:8080/"
        },
        "id": "lzOtYmphDMM8",
        "outputId": "106e401f-ad0c-4e09-a2fe-64fd836caafb"
      },
      "source": [
        "print(\"Hello\")"
      ],
      "execution_count": null,
      "outputs": [
        {
          "output_type": "stream",
          "name": "stdout",
          "text": [
            "Hello\n"
          ]
        }
      ]
    },
    {
      "cell_type": "code",
      "metadata": {
        "colab": {
          "base_uri": "https://localhost:8080/"
        },
        "id": "NtqAX78UD1Nf",
        "outputId": "5dc6d081-d2f7-4ccc-d392-a775ff86f5fd"
      },
      "source": [
        "a = \"Hello\"\n",
        "print(a[2])"
      ],
      "execution_count": null,
      "outputs": [
        {
          "output_type": "stream",
          "name": "stdout",
          "text": [
            "l\n"
          ]
        }
      ]
    },
    {
      "cell_type": "code",
      "metadata": {
        "colab": {
          "base_uri": "https://localhost:8080/"
        },
        "id": "Wje7VKf3EAUt",
        "outputId": "9962b68f-8eb2-4120-b1be-70e6f9e29b68"
      },
      "source": [
        "for x in a:\n",
        "  print(x)"
      ],
      "execution_count": null,
      "outputs": [
        {
          "output_type": "stream",
          "name": "stdout",
          "text": [
            "H\n",
            "e\n",
            "l\n",
            "l\n",
            "o\n"
          ]
        }
      ]
    },
    {
      "cell_type": "code",
      "metadata": {
        "id": "15s46AP6EFw_"
      },
      "source": [
        "lst = [2,3,6,5,4,7,8]"
      ],
      "execution_count": null,
      "outputs": []
    },
    {
      "cell_type": "code",
      "metadata": {
        "colab": {
          "base_uri": "https://localhost:8080/"
        },
        "id": "YZpVpvK5ES69",
        "outputId": "2143dfec-10c3-4de7-b74f-a26042f52304"
      },
      "source": [
        "lst[2:6]"
      ],
      "execution_count": null,
      "outputs": [
        {
          "output_type": "execute_result",
          "data": {
            "text/plain": [
              "[6, 5, 4, 7]"
            ]
          },
          "metadata": {},
          "execution_count": 49
        }
      ]
    },
    {
      "cell_type": "code",
      "metadata": {
        "colab": {
          "base_uri": "https://localhost:8080/"
        },
        "id": "i8iUm9qYEUP2",
        "outputId": "d99e2c67-c414-4c97-a4bd-1e1c2a74bc93"
      },
      "source": [
        "lst[-5:-1]"
      ],
      "execution_count": null,
      "outputs": [
        {
          "output_type": "execute_result",
          "data": {
            "text/plain": [
              "[6, 5, 4, 7]"
            ]
          },
          "metadata": {},
          "execution_count": 57
        }
      ]
    },
    {
      "cell_type": "code",
      "metadata": {
        "id": "kcH6U1ecEY43"
      },
      "source": [
        ""
      ],
      "execution_count": null,
      "outputs": []
    }
  ]
}